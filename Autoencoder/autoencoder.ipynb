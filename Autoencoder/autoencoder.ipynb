{
 "cells": [
  {
   "cell_type": "code",
   "execution_count": 5,
   "id": "8e4f9f8e",
   "metadata": {},
   "outputs": [],
   "source": [
    "import torch\n",
    "import torch.nn as nn\n",
    "import torch.optim as optim\n",
    "from torchvision import datasets, transforms\n",
    "import matplotlib.pyplot as plt"
   ]
  },
  {
   "cell_type": "code",
   "execution_count": 6,
   "id": "a01383a0",
   "metadata": {},
   "outputs": [],
   "source": [
    "transforms = transforms.ToTensor()"
   ]
  },
  {
   "cell_type": "code",
   "execution_count": 7,
   "id": "835a9310",
   "metadata": {},
   "outputs": [
    {
     "name": "stderr",
     "output_type": "stream",
     "text": [
      "100%|██████████| 9.91M/9.91M [00:30<00:00, 321kB/s] \n",
      "100%|██████████| 28.9k/28.9k [00:00<00:00, 86.8kB/s]\n",
      "100%|██████████| 1.65M/1.65M [00:24<00:00, 67.9kB/s]\n",
      "100%|██████████| 4.54k/4.54k [00:00<00:00, 755kB/s]\n"
     ]
    }
   ],
   "source": [
    "# load data\n",
    "import torch.utils.data.dataloader\n",
    "\n",
    "\n",
    "mnist_data = datasets.MNIST(root='./data',\n",
    "                            train=True,\n",
    "                            download=True,\n",
    "                            transform=transforms)\n",
    "\n",
    "# data loader\n",
    "data_loader = torch.utils.data.DataLoader(dataset=mnist_data,\n",
    "                                          batch_size=64,\n",
    "                                          shuffle=True)"
   ]
  },
  {
   "cell_type": "code",
   "execution_count": null,
   "id": "cd7bf172",
   "metadata": {},
   "outputs": [],
   "source": [
    "class Autoencoder(nn.Module):\n",
    "    def __init__(self):\n",
    "        '''\n",
    "        Sisi kiri : encoder\n",
    "        Ukuran output akan semakin mengecil\n",
    "        '''\n",
    "        self.encoder = nn.Sequential(\n",
    "            nn.Linear(28 * 28, 128), # (N, 784) -> (N, 128)\n",
    "            nn.ReLU(),\n",
    "            nn.Linear(128, 64), # (N, 128) -> (N, 64)\n",
    "            nn.ReLU(),\n",
    "            nn.Linear(64, 12),\n",
    "            nn.ReLU(),\n",
    "            nn.Linear(12, 3) # (N, 64) -> (N, 3)\n",
    "        )\n",
    "\n",
    "        '''\n",
    "        Sisi kanan : decoder\n",
    "        Ukuran output akan semakin membesar\n",
    "        '''\n",
    "        self.decoder = nn.Sequential(\n",
    "            nn.Linear(3, 12), \n",
    "            nn.ReLU(),\n",
    "            nn.Linear(12, 64), \n",
    "            nn.ReLU(),\n",
    "            nn.Linear(64, 128),\n",
    "            nn.ReLU(),\n",
    "            nn.Linear(128, 28 * 28),\n",
    "            nn.Sigmoid() \n",
    "        )\n",
    "\n",
    "        def forward(self, x):\n",
    "            "
   ]
  }
 ],
 "metadata": {
  "kernelspec": {
   "display_name": "Python 3",
   "language": "python",
   "name": "python3"
  },
  "language_info": {
   "codemirror_mode": {
    "name": "ipython",
    "version": 3
   },
   "file_extension": ".py",
   "mimetype": "text/x-python",
   "name": "python",
   "nbconvert_exporter": "python",
   "pygments_lexer": "ipython3",
   "version": "3.11.0"
  }
 },
 "nbformat": 4,
 "nbformat_minor": 5
}
